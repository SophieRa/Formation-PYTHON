{
 "cells": [
  {
   "cell_type": "markdown",
   "metadata": {},
   "source": [
    "# installation\n",
    "comment installer python (PC ou wise)\n",
    "installer des packages avec pip\n",
    "paulin ?\n"
   ]
  },
  {
   "cell_type": "markdown",
   "metadata": {},
   "source": [
    "# jupyter uses\n",
    "code, markdown, \n"
   ]
  },
  {
   "cell_type": "markdown",
   "metadata": {},
   "source": [
    "## directory change"
   ]
  },
  {
   "cell_type": "code",
   "execution_count": 2,
   "metadata": {},
   "outputs": [],
   "source": [
    "import os\n",
    "os.getcwd()\n",
    "os.chdir('G:/TM/Transverse Projects/python/TRAINING/data')"
   ]
  },
  {
   "cell_type": "markdown",
   "metadata": {},
   "source": [
    "list : [] en SAS = "
   ]
  },
  {
   "cell_type": "markdown",
   "metadata": {},
   "source": [
    "## examine the content of a directory"
   ]
  },
  {
   "cell_type": "code",
   "execution_count": 15,
   "metadata": {},
   "outputs": [
    {
     "name": "stdout",
     "output_type": "stream",
     "text": [
      " Le volume dans le lecteur G s’appelle STAT\n",
      " Le numéro de série du volume est 80DB-D01A\n",
      "\n",
      " Répertoire de G:\\TM\\Transverse Projects\\python\\TRAINING\\data\n",
      "\n",
      "27/11/2019  12:38    <DIR>          .\n",
      "27/11/2019  12:48    <DIR>          ..\n",
      "27/11/2019  10:38           121.067 TMadre.csv\n",
      "27/11/2019  12:00            75.549 TMadsl.csv\n",
      "27/11/2019  12:01            30.528 TMadtte.csv\n",
      "               3 fichier(s)          227.144 octets\n",
      "               2 Rép(s)  574.017.630.208 octets libres\n"
     ]
    }
   ],
   "source": [
    "ls"
   ]
  },
  {
   "cell_type": "markdown",
   "metadata": {},
   "source": [
    "## file reading"
   ]
  },
  {
   "cell_type": "code",
   "execution_count": 3,
   "metadata": {},
   "outputs": [],
   "source": [
    "import pandas as pd\n",
    "TMadsl = pd.read_csv('TMadsl.csv')"
   ]
  },
  {
   "cell_type": "markdown",
   "metadata": {},
   "source": [
    "<details>\n",
    "<summary>Réponse</summary>\n",
    "<pre>\n",
    "expMat = read.table(\"exprMat_DUO.tsv\", header = T, sep = \"\\t\", row.names = 1)\n",
    "</pre>\n",
    "</details>"
   ]
  },
  {
   "cell_type": "markdown",
   "metadata": {},
   "source": [
    "# base functions\n",
    "equivalence function de base:\n",
    "head, shape, dir, type, size, len, .info, .describe\n",
    "**equivalence SAS** ??"
   ]
  },
  {
   "cell_type": "markdown",
   "metadata": {},
   "source": [
    "## basic functions"
   ]
  },
  {
   "cell_type": "code",
   "execution_count": 26,
   "metadata": {},
   "outputs": [
    {
     "data": {
      "text/html": [
       "<div>\n",
       "<style scoped>\n",
       "    .dataframe tbody tr th:only-of-type {\n",
       "        vertical-align: middle;\n",
       "    }\n",
       "\n",
       "    .dataframe tbody tr th {\n",
       "        vertical-align: top;\n",
       "    }\n",
       "\n",
       "    .dataframe thead th {\n",
       "        text-align: right;\n",
       "    }\n",
       "</style>\n",
       "<table border=\"1\" class=\"dataframe\">\n",
       "  <thead>\n",
       "    <tr style=\"text-align: right;\">\n",
       "      <th></th>\n",
       "      <th>USUBJID</th>\n",
       "      <th>SEX</th>\n",
       "      <th>ARM</th>\n",
       "      <th>ARMN</th>\n",
       "      <th>AGE</th>\n",
       "      <th>CENTER</th>\n",
       "      <th>GRADE</th>\n",
       "      <th>x1</th>\n",
       "      <th>x2</th>\n",
       "      <th>x3</th>\n",
       "      <th>...</th>\n",
       "      <th>c4</th>\n",
       "      <th>c5</th>\n",
       "      <th>d1</th>\n",
       "      <th>d2</th>\n",
       "      <th>d3</th>\n",
       "      <th>d4</th>\n",
       "      <th>d5</th>\n",
       "      <th>RANDFL</th>\n",
       "      <th>BMKPKFL</th>\n",
       "      <th>BMKBLFL</th>\n",
       "    </tr>\n",
       "  </thead>\n",
       "  <tbody>\n",
       "    <tr>\n",
       "      <th>0</th>\n",
       "      <td>ID001</td>\n",
       "      <td>Male</td>\n",
       "      <td>Experimental 1</td>\n",
       "      <td>2</td>\n",
       "      <td>67.1</td>\n",
       "      <td>CH</td>\n",
       "      <td>1</td>\n",
       "      <td>0.823864</td>\n",
       "      <td>-0.255988</td>\n",
       "      <td>0.582780</td>\n",
       "      <td>...</td>\n",
       "      <td>medium</td>\n",
       "      <td>high</td>\n",
       "      <td>0</td>\n",
       "      <td>1.0</td>\n",
       "      <td>1.0</td>\n",
       "      <td>1.0</td>\n",
       "      <td>0.0</td>\n",
       "      <td>Y</td>\n",
       "      <td>Y</td>\n",
       "      <td>Y</td>\n",
       "    </tr>\n",
       "    <tr>\n",
       "      <th>1</th>\n",
       "      <td>ID002</td>\n",
       "      <td>Female</td>\n",
       "      <td>Experimental 1</td>\n",
       "      <td>2</td>\n",
       "      <td>70.3</td>\n",
       "      <td>US</td>\n",
       "      <td>2</td>\n",
       "      <td>-0.755065</td>\n",
       "      <td>0.455221</td>\n",
       "      <td>1.006640</td>\n",
       "      <td>...</td>\n",
       "      <td>medium</td>\n",
       "      <td>medium</td>\n",
       "      <td>1</td>\n",
       "      <td>1.0</td>\n",
       "      <td>0.0</td>\n",
       "      <td>0.0</td>\n",
       "      <td>0.0</td>\n",
       "      <td>Y</td>\n",
       "      <td>Y</td>\n",
       "      <td>Y</td>\n",
       "    </tr>\n",
       "    <tr>\n",
       "      <th>2</th>\n",
       "      <td>ID003</td>\n",
       "      <td>Female</td>\n",
       "      <td>Experimental 1</td>\n",
       "      <td>2</td>\n",
       "      <td>54.3</td>\n",
       "      <td>CH</td>\n",
       "      <td>1</td>\n",
       "      <td>0.866645</td>\n",
       "      <td>0.286541</td>\n",
       "      <td>0.797288</td>\n",
       "      <td>...</td>\n",
       "      <td>low</td>\n",
       "      <td>low</td>\n",
       "      <td>0</td>\n",
       "      <td>1.0</td>\n",
       "      <td>0.0</td>\n",
       "      <td>0.0</td>\n",
       "      <td>1.0</td>\n",
       "      <td>Y</td>\n",
       "      <td>NaN</td>\n",
       "      <td>Y</td>\n",
       "    </tr>\n",
       "    <tr>\n",
       "      <th>3</th>\n",
       "      <td>ID004</td>\n",
       "      <td>Female</td>\n",
       "      <td>Placebo</td>\n",
       "      <td>1</td>\n",
       "      <td>55.7</td>\n",
       "      <td>US</td>\n",
       "      <td>0</td>\n",
       "      <td>1.189272</td>\n",
       "      <td>-0.598529</td>\n",
       "      <td>0.070896</td>\n",
       "      <td>...</td>\n",
       "      <td>medium</td>\n",
       "      <td>low</td>\n",
       "      <td>1</td>\n",
       "      <td>1.0</td>\n",
       "      <td>1.0</td>\n",
       "      <td>1.0</td>\n",
       "      <td>1.0</td>\n",
       "      <td>Y</td>\n",
       "      <td>NaN</td>\n",
       "      <td>NaN</td>\n",
       "    </tr>\n",
       "    <tr>\n",
       "      <th>4</th>\n",
       "      <td>ID005</td>\n",
       "      <td>Female</td>\n",
       "      <td>Placebo</td>\n",
       "      <td>1</td>\n",
       "      <td>70.1</td>\n",
       "      <td>DE</td>\n",
       "      <td>2</td>\n",
       "      <td>-0.312115</td>\n",
       "      <td>NaN</td>\n",
       "      <td>-2.383548</td>\n",
       "      <td>...</td>\n",
       "      <td>high</td>\n",
       "      <td>medium</td>\n",
       "      <td>1</td>\n",
       "      <td>1.0</td>\n",
       "      <td>1.0</td>\n",
       "      <td>1.0</td>\n",
       "      <td>1.0</td>\n",
       "      <td>Y</td>\n",
       "      <td>Y</td>\n",
       "      <td>Y</td>\n",
       "    </tr>\n",
       "    <tr>\n",
       "      <th>5</th>\n",
       "      <td>ID006</td>\n",
       "      <td>Female</td>\n",
       "      <td>Experimental 2</td>\n",
       "      <td>3</td>\n",
       "      <td>72.0</td>\n",
       "      <td>FR</td>\n",
       "      <td>1</td>\n",
       "      <td>-0.437871</td>\n",
       "      <td>-0.473826</td>\n",
       "      <td>0.143510</td>\n",
       "      <td>...</td>\n",
       "      <td>medium</td>\n",
       "      <td>high</td>\n",
       "      <td>0</td>\n",
       "      <td>1.0</td>\n",
       "      <td>1.0</td>\n",
       "      <td>1.0</td>\n",
       "      <td>1.0</td>\n",
       "      <td>Y</td>\n",
       "      <td>NaN</td>\n",
       "      <td>NaN</td>\n",
       "    </tr>\n",
       "    <tr>\n",
       "      <th>6</th>\n",
       "      <td>ID007</td>\n",
       "      <td>Male</td>\n",
       "      <td>Placebo</td>\n",
       "      <td>1</td>\n",
       "      <td>75.0</td>\n",
       "      <td>FR</td>\n",
       "      <td>0</td>\n",
       "      <td>1.151365</td>\n",
       "      <td>0.931556</td>\n",
       "      <td>NaN</td>\n",
       "      <td>...</td>\n",
       "      <td>medium</td>\n",
       "      <td>medium</td>\n",
       "      <td>0</td>\n",
       "      <td>0.0</td>\n",
       "      <td>1.0</td>\n",
       "      <td>0.0</td>\n",
       "      <td>1.0</td>\n",
       "      <td>Y</td>\n",
       "      <td>NaN</td>\n",
       "      <td>NaN</td>\n",
       "    </tr>\n",
       "    <tr>\n",
       "      <th>7</th>\n",
       "      <td>ID008</td>\n",
       "      <td>Female</td>\n",
       "      <td>Experimental 2</td>\n",
       "      <td>3</td>\n",
       "      <td>58.4</td>\n",
       "      <td>CH</td>\n",
       "      <td>1</td>\n",
       "      <td>-1.023522</td>\n",
       "      <td>-0.734955</td>\n",
       "      <td>0.378698</td>\n",
       "      <td>...</td>\n",
       "      <td>low</td>\n",
       "      <td>medium</td>\n",
       "      <td>0</td>\n",
       "      <td>NaN</td>\n",
       "      <td>0.0</td>\n",
       "      <td>0.0</td>\n",
       "      <td>0.0</td>\n",
       "      <td>Y</td>\n",
       "      <td>Y</td>\n",
       "      <td>Y</td>\n",
       "    </tr>\n",
       "    <tr>\n",
       "      <th>8</th>\n",
       "      <td>ID009</td>\n",
       "      <td>Male</td>\n",
       "      <td>Experimental 2</td>\n",
       "      <td>3</td>\n",
       "      <td>50.6</td>\n",
       "      <td>FR</td>\n",
       "      <td>2</td>\n",
       "      <td>-0.552205</td>\n",
       "      <td>0.648638</td>\n",
       "      <td>-0.128459</td>\n",
       "      <td>...</td>\n",
       "      <td>low</td>\n",
       "      <td>medium</td>\n",
       "      <td>0</td>\n",
       "      <td>0.0</td>\n",
       "      <td>0.0</td>\n",
       "      <td>0.0</td>\n",
       "      <td>1.0</td>\n",
       "      <td>Y</td>\n",
       "      <td>Y</td>\n",
       "      <td>Y</td>\n",
       "    </tr>\n",
       "    <tr>\n",
       "      <th>9</th>\n",
       "      <td>ID010</td>\n",
       "      <td>Female</td>\n",
       "      <td>Experimental 1</td>\n",
       "      <td>2</td>\n",
       "      <td>63.5</td>\n",
       "      <td>CH</td>\n",
       "      <td>3</td>\n",
       "      <td>1.282166</td>\n",
       "      <td>2.456056</td>\n",
       "      <td>0.720865</td>\n",
       "      <td>...</td>\n",
       "      <td>medium</td>\n",
       "      <td>medium</td>\n",
       "      <td>1</td>\n",
       "      <td>0.0</td>\n",
       "      <td>1.0</td>\n",
       "      <td>1.0</td>\n",
       "      <td>1.0</td>\n",
       "      <td>Y</td>\n",
       "      <td>Y</td>\n",
       "      <td>Y</td>\n",
       "    </tr>\n",
       "  </tbody>\n",
       "</table>\n",
       "<p>10 rows × 35 columns</p>\n",
       "</div>"
      ],
      "text/plain": [
       "  USUBJID     SEX             ARM  ARMN   AGE CENTER  GRADE        x1  \\\n",
       "0   ID001    Male  Experimental 1     2  67.1     CH      1  0.823864   \n",
       "1   ID002  Female  Experimental 1     2  70.3     US      2 -0.755065   \n",
       "2   ID003  Female  Experimental 1     2  54.3     CH      1  0.866645   \n",
       "3   ID004  Female         Placebo     1  55.7     US      0  1.189272   \n",
       "4   ID005  Female         Placebo     1  70.1     DE      2 -0.312115   \n",
       "5   ID006  Female  Experimental 2     3  72.0     FR      1 -0.437871   \n",
       "6   ID007    Male         Placebo     1  75.0     FR      0  1.151365   \n",
       "7   ID008  Female  Experimental 2     3  58.4     CH      1 -1.023522   \n",
       "8   ID009    Male  Experimental 2     3  50.6     FR      2 -0.552205   \n",
       "9   ID010  Female  Experimental 1     2  63.5     CH      3  1.282166   \n",
       "\n",
       "         x2        x3   ...         c4      c5  d1   d2   d3   d4   d5  \\\n",
       "0 -0.255988  0.582780   ...     medium    high   0  1.0  1.0  1.0  0.0   \n",
       "1  0.455221  1.006640   ...     medium  medium   1  1.0  0.0  0.0  0.0   \n",
       "2  0.286541  0.797288   ...        low     low   0  1.0  0.0  0.0  1.0   \n",
       "3 -0.598529  0.070896   ...     medium     low   1  1.0  1.0  1.0  1.0   \n",
       "4       NaN -2.383548   ...       high  medium   1  1.0  1.0  1.0  1.0   \n",
       "5 -0.473826  0.143510   ...     medium    high   0  1.0  1.0  1.0  1.0   \n",
       "6  0.931556       NaN   ...     medium  medium   0  0.0  1.0  0.0  1.0   \n",
       "7 -0.734955  0.378698   ...        low  medium   0  NaN  0.0  0.0  0.0   \n",
       "8  0.648638 -0.128459   ...        low  medium   0  0.0  0.0  0.0  1.0   \n",
       "9  2.456056  0.720865   ...     medium  medium   1  0.0  1.0  1.0  1.0   \n",
       "\n",
       "   RANDFL  BMKPKFL  BMKBLFL  \n",
       "0       Y        Y        Y  \n",
       "1       Y        Y        Y  \n",
       "2       Y      NaN        Y  \n",
       "3       Y      NaN      NaN  \n",
       "4       Y        Y        Y  \n",
       "5       Y      NaN      NaN  \n",
       "6       Y      NaN      NaN  \n",
       "7       Y        Y        Y  \n",
       "8       Y        Y        Y  \n",
       "9       Y        Y        Y  \n",
       "\n",
       "[10 rows x 35 columns]"
      ]
     },
     "execution_count": 26,
     "metadata": {},
     "output_type": "execute_result"
    }
   ],
   "source": [
    "TMadsl.head()\n",
    "TMadsl.head(10)"
   ]
  },
  {
   "cell_type": "code",
   "execution_count": 15,
   "metadata": {},
   "outputs": [
    {
     "data": {
      "text/html": [
       "<div>\n",
       "<style scoped>\n",
       "    .dataframe tbody tr th:only-of-type {\n",
       "        vertical-align: middle;\n",
       "    }\n",
       "\n",
       "    .dataframe tbody tr th {\n",
       "        vertical-align: top;\n",
       "    }\n",
       "\n",
       "    .dataframe thead th {\n",
       "        text-align: right;\n",
       "    }\n",
       "</style>\n",
       "<table border=\"1\" class=\"dataframe\">\n",
       "  <thead>\n",
       "    <tr style=\"text-align: right;\">\n",
       "      <th></th>\n",
       "      <th>USUBJID</th>\n",
       "      <th>SEX</th>\n",
       "      <th>ARM</th>\n",
       "      <th>ARMN</th>\n",
       "      <th>AGE</th>\n",
       "      <th>CENTER</th>\n",
       "      <th>GRADE</th>\n",
       "      <th>x1</th>\n",
       "      <th>x2</th>\n",
       "      <th>x3</th>\n",
       "      <th>...</th>\n",
       "      <th>c4</th>\n",
       "      <th>c5</th>\n",
       "      <th>d1</th>\n",
       "      <th>d2</th>\n",
       "      <th>d3</th>\n",
       "      <th>d4</th>\n",
       "      <th>d5</th>\n",
       "      <th>RANDFL</th>\n",
       "      <th>BMKPKFL</th>\n",
       "      <th>BMKBLFL</th>\n",
       "    </tr>\n",
       "  </thead>\n",
       "  <tbody>\n",
       "    <tr>\n",
       "      <th>195</th>\n",
       "      <td>ID196</td>\n",
       "      <td>Female</td>\n",
       "      <td>Placebo</td>\n",
       "      <td>1</td>\n",
       "      <td>73.4</td>\n",
       "      <td>CH</td>\n",
       "      <td>2</td>\n",
       "      <td>0.351052</td>\n",
       "      <td>-0.273844</td>\n",
       "      <td>-0.202252</td>\n",
       "      <td>...</td>\n",
       "      <td>high</td>\n",
       "      <td>NaN</td>\n",
       "      <td>0</td>\n",
       "      <td>1.0</td>\n",
       "      <td>1.0</td>\n",
       "      <td>1.0</td>\n",
       "      <td>1.0</td>\n",
       "      <td>Y</td>\n",
       "      <td>Y</td>\n",
       "      <td>Y</td>\n",
       "    </tr>\n",
       "    <tr>\n",
       "      <th>196</th>\n",
       "      <td>ID197</td>\n",
       "      <td>Male</td>\n",
       "      <td>Experimental 2</td>\n",
       "      <td>3</td>\n",
       "      <td>58.4</td>\n",
       "      <td>NaN</td>\n",
       "      <td>0</td>\n",
       "      <td>-0.412369</td>\n",
       "      <td>-0.328413</td>\n",
       "      <td>1.284648</td>\n",
       "      <td>...</td>\n",
       "      <td>medium</td>\n",
       "      <td>high</td>\n",
       "      <td>0</td>\n",
       "      <td>1.0</td>\n",
       "      <td>1.0</td>\n",
       "      <td>1.0</td>\n",
       "      <td>1.0</td>\n",
       "      <td>Y</td>\n",
       "      <td>Y</td>\n",
       "      <td>Y</td>\n",
       "    </tr>\n",
       "    <tr>\n",
       "      <th>197</th>\n",
       "      <td>ID198</td>\n",
       "      <td>Female</td>\n",
       "      <td>Placebo</td>\n",
       "      <td>1</td>\n",
       "      <td>69.3</td>\n",
       "      <td>US</td>\n",
       "      <td>3</td>\n",
       "      <td>-1.322529</td>\n",
       "      <td>0.094990</td>\n",
       "      <td>0.371717</td>\n",
       "      <td>...</td>\n",
       "      <td>high</td>\n",
       "      <td>medium</td>\n",
       "      <td>0</td>\n",
       "      <td>1.0</td>\n",
       "      <td>1.0</td>\n",
       "      <td>1.0</td>\n",
       "      <td>1.0</td>\n",
       "      <td>Y</td>\n",
       "      <td>NaN</td>\n",
       "      <td>Y</td>\n",
       "    </tr>\n",
       "    <tr>\n",
       "      <th>198</th>\n",
       "      <td>ID199</td>\n",
       "      <td>Female</td>\n",
       "      <td>Placebo</td>\n",
       "      <td>1</td>\n",
       "      <td>68.9</td>\n",
       "      <td>US</td>\n",
       "      <td>1</td>\n",
       "      <td>1.498424</td>\n",
       "      <td>1.396664</td>\n",
       "      <td>1.507088</td>\n",
       "      <td>...</td>\n",
       "      <td>medium</td>\n",
       "      <td>medium</td>\n",
       "      <td>1</td>\n",
       "      <td>1.0</td>\n",
       "      <td>1.0</td>\n",
       "      <td>1.0</td>\n",
       "      <td>1.0</td>\n",
       "      <td>Y</td>\n",
       "      <td>Y</td>\n",
       "      <td>Y</td>\n",
       "    </tr>\n",
       "    <tr>\n",
       "      <th>199</th>\n",
       "      <td>ID200</td>\n",
       "      <td>Male</td>\n",
       "      <td>Placebo</td>\n",
       "      <td>1</td>\n",
       "      <td>61.5</td>\n",
       "      <td>US</td>\n",
       "      <td>1</td>\n",
       "      <td>0.354081</td>\n",
       "      <td>1.014268</td>\n",
       "      <td>1.119144</td>\n",
       "      <td>...</td>\n",
       "      <td>medium</td>\n",
       "      <td>low</td>\n",
       "      <td>0</td>\n",
       "      <td>0.0</td>\n",
       "      <td>1.0</td>\n",
       "      <td>0.0</td>\n",
       "      <td>0.0</td>\n",
       "      <td>Y</td>\n",
       "      <td>Y</td>\n",
       "      <td>Y</td>\n",
       "    </tr>\n",
       "  </tbody>\n",
       "</table>\n",
       "<p>5 rows × 35 columns</p>\n",
       "</div>"
      ],
      "text/plain": [
       "    USUBJID     SEX             ARM  ARMN   AGE CENTER  GRADE        x1  \\\n",
       "195   ID196  Female         Placebo     1  73.4     CH      2  0.351052   \n",
       "196   ID197    Male  Experimental 2     3  58.4    NaN      0 -0.412369   \n",
       "197   ID198  Female         Placebo     1  69.3     US      3 -1.322529   \n",
       "198   ID199  Female         Placebo     1  68.9     US      1  1.498424   \n",
       "199   ID200    Male         Placebo     1  61.5     US      1  0.354081   \n",
       "\n",
       "           x2        x3   ...         c4      c5  d1   d2   d3   d4   d5  \\\n",
       "195 -0.273844 -0.202252   ...       high     NaN   0  1.0  1.0  1.0  1.0   \n",
       "196 -0.328413  1.284648   ...     medium    high   0  1.0  1.0  1.0  1.0   \n",
       "197  0.094990  0.371717   ...       high  medium   0  1.0  1.0  1.0  1.0   \n",
       "198  1.396664  1.507088   ...     medium  medium   1  1.0  1.0  1.0  1.0   \n",
       "199  1.014268  1.119144   ...     medium     low   0  0.0  1.0  0.0  0.0   \n",
       "\n",
       "     RANDFL  BMKPKFL  BMKBLFL  \n",
       "195       Y        Y        Y  \n",
       "196       Y        Y        Y  \n",
       "197       Y      NaN        Y  \n",
       "198       Y        Y        Y  \n",
       "199       Y        Y        Y  \n",
       "\n",
       "[5 rows x 35 columns]"
      ]
     },
     "execution_count": 15,
     "metadata": {},
     "output_type": "execute_result"
    }
   ],
   "source": [
    "TMadsl.tail()"
   ]
  },
  {
   "cell_type": "code",
   "execution_count": 68,
   "metadata": {},
   "outputs": [
    {
     "data": {
      "text/plain": [
       "Index(['USUBJID', 'SEX', 'ARM', 'ARMN', 'AGE', 'CENTER', 'GRADE', 'x1', 'x2',\n",
       "       'x3', 'x4', 'x5', 'x6', 'x7', 'x8', 'x9', 'x10', 'x11', 'x12', 'x13',\n",
       "       'x14', 'x15', 'c1', 'c2', 'c3', 'c4', 'c5', 'd1', 'd2', 'd3', 'd4',\n",
       "       'd5', 'RANDFL', 'BMKPKFL', 'BMKBLFL'],\n",
       "      dtype='object')"
      ]
     },
     "execution_count": 68,
     "metadata": {},
     "output_type": "execute_result"
    }
   ],
   "source": [
    "TMadsl.columns"
   ]
  },
  {
   "cell_type": "code",
   "execution_count": 56,
   "metadata": {},
   "outputs": [
    {
     "name": "stdout",
     "output_type": "stream",
     "text": [
      "(200, 35)\n",
      "35\n",
      "200\n"
     ]
    }
   ],
   "source": [
    "print(TMadsl.shape)\n",
    "print(len(TMadsl.columns))\n",
    "print(len(TMadsl))"
   ]
  },
  {
   "cell_type": "code",
   "execution_count": 50,
   "metadata": {},
   "outputs": [
    {
     "name": "stdout",
     "output_type": "stream",
     "text": [
      "<class 'pandas.core.frame.DataFrame'>\n",
      "RangeIndex: 200 entries, 0 to 199\n",
      "Data columns (total 35 columns):\n",
      "USUBJID    200 non-null object\n",
      "SEX        200 non-null object\n",
      "ARM        200 non-null object\n",
      "ARMN       200 non-null int64\n",
      "AGE        193 non-null float64\n",
      "CENTER     195 non-null object\n",
      "GRADE      200 non-null int64\n",
      "x1         199 non-null float64\n",
      "x2         190 non-null float64\n",
      "x3         191 non-null float64\n",
      "x4         193 non-null float64\n",
      "x5         190 non-null float64\n",
      "x6         200 non-null float64\n",
      "x7         200 non-null float64\n",
      "x8         190 non-null float64\n",
      "x9         190 non-null float64\n",
      "x10        192 non-null float64\n",
      "x11        190 non-null float64\n",
      "x12        199 non-null float64\n",
      "x13        191 non-null float64\n",
      "x14        195 non-null float64\n",
      "x15        199 non-null float64\n",
      "c1         190 non-null object\n",
      "c2         194 non-null object\n",
      "c3         194 non-null object\n",
      "c4         193 non-null object\n",
      "c5         197 non-null object\n",
      "d1         200 non-null int64\n",
      "d2         194 non-null float64\n",
      "d3         194 non-null float64\n",
      "d4         198 non-null float64\n",
      "d5         195 non-null float64\n",
      "RANDFL     200 non-null object\n",
      "BMKPKFL    132 non-null object\n",
      "BMKBLFL    179 non-null object\n",
      "dtypes: float64(20), int64(3), object(12)\n",
      "memory usage: 54.8+ KB\n"
     ]
    }
   ],
   "source": [
    "TMadsl.info()"
   ]
  },
  {
   "cell_type": "code",
   "execution_count": 60,
   "metadata": {},
   "outputs": [
    {
     "data": {
      "text/plain": [
       "<class 'pandas.core.frame.DataFrame'>"
      ]
     },
     "execution_count": 60,
     "metadata": {},
     "output_type": "execute_result"
    }
   ],
   "source": [
    "type(TMadsl)"
   ]
  },
  {
   "cell_type": "markdown",
   "metadata": {},
   "source": [
    "# pandas\n",
    "utilisation PANDAS pour manipuler les dataframes sur data TMADRE\n",
    "import package\n",
    "reading data\n",
    "df = pd.read_csv vs df <- read.csv\n",
    "df.loc, df.iloc, method **.apply**, method **.groupby**, **aggregate**\n",
    "**equivalence SAS**\n",
    "equivalent de which avec filter\n",
    "merge"
   ]
  },
  {
   "cell_type": "markdown",
   "metadata": {},
   "source": [
    "# plot "
   ]
  },
  {
   "cell_type": "markdown",
   "metadata": {},
   "source": [
    "## box plot on ADRE"
   ]
  },
  {
   "cell_type": "markdown",
   "metadata": {},
   "source": [
    "### reorganize data"
   ]
  },
  {
   "cell_type": "code",
   "execution_count": 5,
   "metadata": {},
   "outputs": [],
   "source": [
    "import pandas as pd\n",
    "TMadre = pd.read_csv('TMadre.csv')"
   ]
  },
  {
   "cell_type": "code",
   "execution_count": 70,
   "metadata": {},
   "outputs": [
    {
     "data": {
      "text/html": [
       "<div>\n",
       "<style scoped>\n",
       "    .dataframe tbody tr th:only-of-type {\n",
       "        vertical-align: middle;\n",
       "    }\n",
       "\n",
       "    .dataframe tbody tr th {\n",
       "        vertical-align: top;\n",
       "    }\n",
       "\n",
       "    .dataframe thead th {\n",
       "        text-align: right;\n",
       "    }\n",
       "</style>\n",
       "<table border=\"1\" class=\"dataframe\">\n",
       "  <thead>\n",
       "    <tr style=\"text-align: right;\">\n",
       "      <th></th>\n",
       "      <th>USUBJID</th>\n",
       "      <th>ARM</th>\n",
       "      <th>ARMN</th>\n",
       "      <th>PARAM</th>\n",
       "      <th>PARAMCD</th>\n",
       "      <th>AVAL</th>\n",
       "      <th>BASE</th>\n",
       "      <th>CHG</th>\n",
       "      <th>PCHG</th>\n",
       "      <th>AVISIT</th>\n",
       "      <th>AVISITN</th>\n",
       "    </tr>\n",
       "  </thead>\n",
       "  <tbody>\n",
       "    <tr>\n",
       "      <th>0</th>\n",
       "      <td>ID001</td>\n",
       "      <td>Experimental 1</td>\n",
       "      <td>2</td>\n",
       "      <td>Score 1</td>\n",
       "      <td>S1</td>\n",
       "      <td>3.22</td>\n",
       "      <td>3.22</td>\n",
       "      <td>NaN</td>\n",
       "      <td>NaN</td>\n",
       "      <td>BASELINE</td>\n",
       "      <td>1</td>\n",
       "    </tr>\n",
       "    <tr>\n",
       "      <th>1</th>\n",
       "      <td>ID001</td>\n",
       "      <td>Experimental 1</td>\n",
       "      <td>2</td>\n",
       "      <td>Score 1</td>\n",
       "      <td>S1</td>\n",
       "      <td>3.17</td>\n",
       "      <td>3.22</td>\n",
       "      <td>-0.05</td>\n",
       "      <td>-1.552795</td>\n",
       "      <td>WEEK 24</td>\n",
       "      <td>2</td>\n",
       "    </tr>\n",
       "    <tr>\n",
       "      <th>2</th>\n",
       "      <td>ID001</td>\n",
       "      <td>Experimental 1</td>\n",
       "      <td>2</td>\n",
       "      <td>Score 1</td>\n",
       "      <td>S1</td>\n",
       "      <td>3.13</td>\n",
       "      <td>3.22</td>\n",
       "      <td>-0.09</td>\n",
       "      <td>-2.795031</td>\n",
       "      <td>WEEK 36</td>\n",
       "      <td>3</td>\n",
       "    </tr>\n",
       "    <tr>\n",
       "      <th>3</th>\n",
       "      <td>ID001</td>\n",
       "      <td>Experimental 1</td>\n",
       "      <td>2</td>\n",
       "      <td>Score 1</td>\n",
       "      <td>S1</td>\n",
       "      <td>2.70</td>\n",
       "      <td>3.22</td>\n",
       "      <td>-0.52</td>\n",
       "      <td>-16.149068</td>\n",
       "      <td>WEEK 52</td>\n",
       "      <td>4</td>\n",
       "    </tr>\n",
       "    <tr>\n",
       "      <th>4</th>\n",
       "      <td>ID001</td>\n",
       "      <td>Experimental 1</td>\n",
       "      <td>2</td>\n",
       "      <td>Score 2</td>\n",
       "      <td>S2</td>\n",
       "      <td>3.62</td>\n",
       "      <td>3.62</td>\n",
       "      <td>NaN</td>\n",
       "      <td>NaN</td>\n",
       "      <td>BASELINE</td>\n",
       "      <td>1</td>\n",
       "    </tr>\n",
       "  </tbody>\n",
       "</table>\n",
       "</div>"
      ],
      "text/plain": [
       "  USUBJID             ARM  ARMN    PARAM PARAMCD  AVAL  BASE   CHG       PCHG  \\\n",
       "0   ID001  Experimental 1     2  Score 1      S1  3.22  3.22   NaN        NaN   \n",
       "1   ID001  Experimental 1     2  Score 1      S1  3.17  3.22 -0.05  -1.552795   \n",
       "2   ID001  Experimental 1     2  Score 1      S1  3.13  3.22 -0.09  -2.795031   \n",
       "3   ID001  Experimental 1     2  Score 1      S1  2.70  3.22 -0.52 -16.149068   \n",
       "4   ID001  Experimental 1     2  Score 2      S2  3.62  3.62   NaN        NaN   \n",
       "\n",
       "     AVISIT  AVISITN  \n",
       "0  BASELINE        1  \n",
       "1   WEEK 24        2  \n",
       "2   WEEK 36        3  \n",
       "3   WEEK 52        4  \n",
       "4  BASELINE        1  "
      ]
     },
     "execution_count": 70,
     "metadata": {},
     "output_type": "execute_result"
    }
   ],
   "source": [
    "TMadre.head()"
   ]
  },
  {
   "cell_type": "code",
   "execution_count": 7,
   "metadata": {},
   "outputs": [],
   "source": [
    "test = TMadre.groupby(['AVISIT', 'ARMN']).agg({'AVAL':np.mean})"
   ]
  },
  {
   "cell_type": "code",
   "execution_count": 8,
   "metadata": {},
   "outputs": [
    {
     "data": {
      "text/html": [
       "<div>\n",
       "<style scoped>\n",
       "    .dataframe tbody tr th:only-of-type {\n",
       "        vertical-align: middle;\n",
       "    }\n",
       "\n",
       "    .dataframe tbody tr th {\n",
       "        vertical-align: top;\n",
       "    }\n",
       "\n",
       "    .dataframe thead th {\n",
       "        text-align: right;\n",
       "    }\n",
       "</style>\n",
       "<table border=\"1\" class=\"dataframe\">\n",
       "  <thead>\n",
       "    <tr style=\"text-align: right;\">\n",
       "      <th></th>\n",
       "      <th></th>\n",
       "      <th>AVAL</th>\n",
       "    </tr>\n",
       "    <tr>\n",
       "      <th>AVISIT</th>\n",
       "      <th>ARMN</th>\n",
       "      <th></th>\n",
       "    </tr>\n",
       "  </thead>\n",
       "  <tbody>\n",
       "    <tr>\n",
       "      <th rowspan=\"3\" valign=\"top\">BASELINE</th>\n",
       "      <th>1</th>\n",
       "      <td>2.294776</td>\n",
       "    </tr>\n",
       "    <tr>\n",
       "      <th>2</th>\n",
       "      <td>2.239929</td>\n",
       "    </tr>\n",
       "    <tr>\n",
       "      <th>3</th>\n",
       "      <td>2.269921</td>\n",
       "    </tr>\n",
       "    <tr>\n",
       "      <th rowspan=\"3\" valign=\"top\">WEEK 24</th>\n",
       "      <th>1</th>\n",
       "      <td>2.280448</td>\n",
       "    </tr>\n",
       "    <tr>\n",
       "      <th>2</th>\n",
       "      <td>2.196048</td>\n",
       "    </tr>\n",
       "    <tr>\n",
       "      <th>3</th>\n",
       "      <td>2.206071</td>\n",
       "    </tr>\n",
       "    <tr>\n",
       "      <th rowspan=\"3\" valign=\"top\">WEEK 36</th>\n",
       "      <th>1</th>\n",
       "      <td>2.254000</td>\n",
       "    </tr>\n",
       "    <tr>\n",
       "      <th>2</th>\n",
       "      <td>2.260364</td>\n",
       "    </tr>\n",
       "    <tr>\n",
       "      <th>3</th>\n",
       "      <td>2.159327</td>\n",
       "    </tr>\n",
       "    <tr>\n",
       "      <th rowspan=\"3\" valign=\"top\">WEEK 52</th>\n",
       "      <th>1</th>\n",
       "      <td>2.216574</td>\n",
       "    </tr>\n",
       "    <tr>\n",
       "      <th>2</th>\n",
       "      <td>2.191923</td>\n",
       "    </tr>\n",
       "    <tr>\n",
       "      <th>3</th>\n",
       "      <td>2.121081</td>\n",
       "    </tr>\n",
       "  </tbody>\n",
       "</table>\n",
       "</div>"
      ],
      "text/plain": [
       "                   AVAL\n",
       "AVISIT   ARMN          \n",
       "BASELINE 1     2.294776\n",
       "         2     2.239929\n",
       "         3     2.269921\n",
       "WEEK 24  1     2.280448\n",
       "         2     2.196048\n",
       "         3     2.206071\n",
       "WEEK 36  1     2.254000\n",
       "         2     2.260364\n",
       "         3     2.159327\n",
       "WEEK 52  1     2.216574\n",
       "         2     2.191923\n",
       "         3     2.121081"
      ]
     },
     "execution_count": 8,
     "metadata": {},
     "output_type": "execute_result"
    }
   ],
   "source": [
    "test"
   ]
  },
  {
   "cell_type": "code",
   "execution_count": 9,
   "metadata": {},
   "outputs": [],
   "source": [
    "test2 =TMadre.set_index(['AVISIT','ARMN'])"
   ]
  },
  {
   "cell_type": "code",
   "execution_count": 16,
   "metadata": {},
   "outputs": [
    {
     "data": {
      "text/html": [
       "<div>\n",
       "<style scoped>\n",
       "    .dataframe tbody tr th:only-of-type {\n",
       "        vertical-align: middle;\n",
       "    }\n",
       "\n",
       "    .dataframe tbody tr th {\n",
       "        vertical-align: top;\n",
       "    }\n",
       "\n",
       "    .dataframe thead th {\n",
       "        text-align: right;\n",
       "    }\n",
       "</style>\n",
       "<table border=\"1\" class=\"dataframe\">\n",
       "  <thead>\n",
       "    <tr style=\"text-align: right;\">\n",
       "      <th></th>\n",
       "      <th></th>\n",
       "      <th>USUBJID</th>\n",
       "      <th>ARM</th>\n",
       "      <th>PARAM</th>\n",
       "      <th>PARAMCD</th>\n",
       "      <th>AVAL</th>\n",
       "      <th>BASE</th>\n",
       "      <th>CHG</th>\n",
       "      <th>PCHG</th>\n",
       "      <th>AVISITN</th>\n",
       "    </tr>\n",
       "    <tr>\n",
       "      <th>AVISIT</th>\n",
       "      <th>ARMN</th>\n",
       "      <th></th>\n",
       "      <th></th>\n",
       "      <th></th>\n",
       "      <th></th>\n",
       "      <th></th>\n",
       "      <th></th>\n",
       "      <th></th>\n",
       "      <th></th>\n",
       "      <th></th>\n",
       "    </tr>\n",
       "  </thead>\n",
       "  <tbody>\n",
       "    <tr>\n",
       "      <th>BASELINE</th>\n",
       "      <th>2</th>\n",
       "      <td>ID001</td>\n",
       "      <td>Experimental 1</td>\n",
       "      <td>Score 1</td>\n",
       "      <td>S1</td>\n",
       "      <td>3.22</td>\n",
       "      <td>3.22</td>\n",
       "      <td>NaN</td>\n",
       "      <td>NaN</td>\n",
       "      <td>1</td>\n",
       "    </tr>\n",
       "    <tr>\n",
       "      <th>WEEK 24</th>\n",
       "      <th>2</th>\n",
       "      <td>ID001</td>\n",
       "      <td>Experimental 1</td>\n",
       "      <td>Score 1</td>\n",
       "      <td>S1</td>\n",
       "      <td>3.17</td>\n",
       "      <td>3.22</td>\n",
       "      <td>-0.05</td>\n",
       "      <td>-1.552795</td>\n",
       "      <td>2</td>\n",
       "    </tr>\n",
       "    <tr>\n",
       "      <th>WEEK 36</th>\n",
       "      <th>2</th>\n",
       "      <td>ID001</td>\n",
       "      <td>Experimental 1</td>\n",
       "      <td>Score 1</td>\n",
       "      <td>S1</td>\n",
       "      <td>3.13</td>\n",
       "      <td>3.22</td>\n",
       "      <td>-0.09</td>\n",
       "      <td>-2.795031</td>\n",
       "      <td>3</td>\n",
       "    </tr>\n",
       "    <tr>\n",
       "      <th>WEEK 52</th>\n",
       "      <th>2</th>\n",
       "      <td>ID001</td>\n",
       "      <td>Experimental 1</td>\n",
       "      <td>Score 1</td>\n",
       "      <td>S1</td>\n",
       "      <td>2.70</td>\n",
       "      <td>3.22</td>\n",
       "      <td>-0.52</td>\n",
       "      <td>-16.149068</td>\n",
       "      <td>4</td>\n",
       "    </tr>\n",
       "    <tr>\n",
       "      <th>BASELINE</th>\n",
       "      <th>2</th>\n",
       "      <td>ID001</td>\n",
       "      <td>Experimental 1</td>\n",
       "      <td>Score 2</td>\n",
       "      <td>S2</td>\n",
       "      <td>3.62</td>\n",
       "      <td>3.62</td>\n",
       "      <td>NaN</td>\n",
       "      <td>NaN</td>\n",
       "      <td>1</td>\n",
       "    </tr>\n",
       "  </tbody>\n",
       "</table>\n",
       "</div>"
      ],
      "text/plain": [
       "              USUBJID             ARM    PARAM PARAMCD  AVAL  BASE   CHG  \\\n",
       "AVISIT   ARMN                                                              \n",
       "BASELINE 2      ID001  Experimental 1  Score 1      S1  3.22  3.22   NaN   \n",
       "WEEK 24  2      ID001  Experimental 1  Score 1      S1  3.17  3.22 -0.05   \n",
       "WEEK 36  2      ID001  Experimental 1  Score 1      S1  3.13  3.22 -0.09   \n",
       "WEEK 52  2      ID001  Experimental 1  Score 1      S1  2.70  3.22 -0.52   \n",
       "BASELINE 2      ID001  Experimental 1  Score 2      S2  3.62  3.62   NaN   \n",
       "\n",
       "                    PCHG  AVISITN  \n",
       "AVISIT   ARMN                      \n",
       "BASELINE 2           NaN        1  \n",
       "WEEK 24  2     -1.552795        2  \n",
       "WEEK 36  2     -2.795031        3  \n",
       "WEEK 52  2    -16.149068        4  \n",
       "BASELINE 2           NaN        1  "
      ]
     },
     "execution_count": 16,
     "metadata": {},
     "output_type": "execute_result"
    }
   ],
   "source": [
    "test2.head()"
   ]
  },
  {
   "cell_type": "code",
   "execution_count": 25,
   "metadata": {},
   "outputs": [
    {
     "data": {
      "text/html": [
       "<div>\n",
       "<style scoped>\n",
       "    .dataframe tbody tr th:only-of-type {\n",
       "        vertical-align: middle;\n",
       "    }\n",
       "\n",
       "    .dataframe tbody tr th {\n",
       "        vertical-align: top;\n",
       "    }\n",
       "\n",
       "    .dataframe thead th {\n",
       "        text-align: right;\n",
       "    }\n",
       "</style>\n",
       "<table border=\"1\" class=\"dataframe\">\n",
       "  <thead>\n",
       "    <tr style=\"text-align: right;\">\n",
       "      <th></th>\n",
       "      <th></th>\n",
       "      <th>USUBJID</th>\n",
       "      <th>ARM</th>\n",
       "      <th>PARAM</th>\n",
       "      <th>PARAMCD</th>\n",
       "      <th>AVAL</th>\n",
       "      <th>BASE</th>\n",
       "      <th>CHG</th>\n",
       "      <th>PCHG</th>\n",
       "      <th>AVISITN</th>\n",
       "    </tr>\n",
       "    <tr>\n",
       "      <th>AVISIT</th>\n",
       "      <th>ARMN</th>\n",
       "      <th></th>\n",
       "      <th></th>\n",
       "      <th></th>\n",
       "      <th></th>\n",
       "      <th></th>\n",
       "      <th></th>\n",
       "      <th></th>\n",
       "      <th></th>\n",
       "      <th></th>\n",
       "    </tr>\n",
       "  </thead>\n",
       "  <tbody>\n",
       "    <tr>\n",
       "      <th rowspan=\"5\" valign=\"top\">BASELINE</th>\n",
       "      <th>1</th>\n",
       "      <td>ID004</td>\n",
       "      <td>Placebo</td>\n",
       "      <td>Score 1</td>\n",
       "      <td>S1</td>\n",
       "      <td>1.92</td>\n",
       "      <td>1.92</td>\n",
       "      <td>NaN</td>\n",
       "      <td>NaN</td>\n",
       "      <td>1</td>\n",
       "    </tr>\n",
       "    <tr>\n",
       "      <th>1</th>\n",
       "      <td>ID004</td>\n",
       "      <td>Placebo</td>\n",
       "      <td>Score 2</td>\n",
       "      <td>S2</td>\n",
       "      <td>2.24</td>\n",
       "      <td>2.24</td>\n",
       "      <td>NaN</td>\n",
       "      <td>NaN</td>\n",
       "      <td>1</td>\n",
       "    </tr>\n",
       "    <tr>\n",
       "      <th>1</th>\n",
       "      <td>ID005</td>\n",
       "      <td>Placebo</td>\n",
       "      <td>Score 1</td>\n",
       "      <td>S1</td>\n",
       "      <td>2.35</td>\n",
       "      <td>2.35</td>\n",
       "      <td>NaN</td>\n",
       "      <td>NaN</td>\n",
       "      <td>1</td>\n",
       "    </tr>\n",
       "    <tr>\n",
       "      <th>1</th>\n",
       "      <td>ID005</td>\n",
       "      <td>Placebo</td>\n",
       "      <td>Score 2</td>\n",
       "      <td>S2</td>\n",
       "      <td>2.66</td>\n",
       "      <td>2.66</td>\n",
       "      <td>NaN</td>\n",
       "      <td>NaN</td>\n",
       "      <td>1</td>\n",
       "    </tr>\n",
       "    <tr>\n",
       "      <th>1</th>\n",
       "      <td>ID007</td>\n",
       "      <td>Placebo</td>\n",
       "      <td>Score 1</td>\n",
       "      <td>S1</td>\n",
       "      <td>2.57</td>\n",
       "      <td>2.57</td>\n",
       "      <td>NaN</td>\n",
       "      <td>NaN</td>\n",
       "      <td>1</td>\n",
       "    </tr>\n",
       "  </tbody>\n",
       "</table>\n",
       "</div>"
      ],
      "text/plain": [
       "              USUBJID      ARM    PARAM PARAMCD  AVAL  BASE  CHG  PCHG  \\\n",
       "AVISIT   ARMN                                                            \n",
       "BASELINE 1      ID004  Placebo  Score 1      S1  1.92  1.92  NaN   NaN   \n",
       "         1      ID004  Placebo  Score 2      S2  2.24  2.24  NaN   NaN   \n",
       "         1      ID005  Placebo  Score 1      S1  2.35  2.35  NaN   NaN   \n",
       "         1      ID005  Placebo  Score 2      S2  2.66  2.66  NaN   NaN   \n",
       "         1      ID007  Placebo  Score 1      S1  2.57  2.57  NaN   NaN   \n",
       "\n",
       "               AVISITN  \n",
       "AVISIT   ARMN           \n",
       "BASELINE 1           1  \n",
       "         1           1  \n",
       "         1           1  \n",
       "         1           1  \n",
       "         1           1  "
      ]
     },
     "execution_count": 25,
     "metadata": {},
     "output_type": "execute_result"
    }
   ],
   "source": [
    "test3 = test2.sort_values(['AVISIT', 'ARMN'])\n",
    "test3.head()"
   ]
  },
  {
   "cell_type": "code",
   "execution_count": 33,
   "metadata": {},
   "outputs": [],
   "source": [
    "test4 = test3.reset_index()"
   ]
  },
  {
   "cell_type": "markdown",
   "metadata": {},
   "source": [
    "### plot"
   ]
  },
  {
   "cell_type": "code",
   "execution_count": 36,
   "metadata": {},
   "outputs": [
    {
     "data": {
      "image/png": "[encoded data removed]",
      "text/plain": [
       "<Figure size 432x288 with 1 Axes>"
      ]
     },
     "metadata": {},
     "output_type": "display_data"
    }
   ],
   "source": [
    "import seaborn as sns\n",
    "\n",
    "sns.set(style=\"ticks\", palette=\"pastel\")\n",
    "\n",
    "# Draw a nested boxplot to show bills by day and time\n",
    "sns.boxplot(x=\"AVISIT\", y=\"AVAL\",\n",
    "            hue=\"ARMN\", palette=[\"m\", \"g\", \"b\"],\n",
    "            data=test4)\n",
    "sns.despine(offset=10, trim=True)"
   ]
  },
  {
   "cell_type": "markdown",
   "metadata": {},
   "source": [
    "### exercices : modification of the plot"
   ]
  },
  {
   "cell_type": "markdown",
   "metadata": {},
   "source": [
    "#### change the color of the boxplot"
   ]
  },
  {
   "cell_type": "markdown",
   "metadata": {},
   "source": [
    "https://seaborn.pydata.org/tutorial/color_palettes.html"
   ]
  },
  {
   "cell_type": "code",
   "execution_count": 77,
   "metadata": {},
   "outputs": [
    {
     "data": {
      "image/png": "[encoded data removed]",
      "text/plain": [
       "<Figure size 432x288 with 1 Axes>"
      ]
     },
     "metadata": {},
     "output_type": "display_data"
    }
   ],
   "source": [
    "import seaborn as sns\n",
    "\n",
    "# sns.color_palette(\"muted\")\n",
    "flatui = [\"#9b59b6\", \"#3498db\", \"#95a5a6\", \"#e74c3c\", \"#34495e\", \"#2ecc71\"]\n",
    "# sns.set(style=\"ticks\", palette = flatui)\n",
    "\n",
    "# Draw a nested boxplot to show bills by day and time\n",
    "sns.boxplot(x=\"AVISIT\", y=\"AVAL\",\n",
    "            hue=\"ARMN\",palette=sns.color_palette(\"husl\", 8),\n",
    "            data=test4)\n",
    "sns.despine(offset=10, trim=True)"
   ]
  },
  {
   "cell_type": "code",
   "execution_count": null,
   "metadata": {},
   "outputs": [],
   "source": []
  },
  {
   "cell_type": "code",
   "execution_count": null,
   "metadata": {},
   "outputs": [],
   "source": []
  },
  {
   "cell_type": "markdown",
   "metadata": {},
   "source": [
    "#### change the position of the legend"
   ]
  },
  {
   "cell_type": "code",
   "execution_count": null,
   "metadata": {},
   "outputs": [],
   "source": [
    "import seaborn as sns\n",
    "\n",
    "sns.set(style=\"ticks\", palette=\"pastel\")\n",
    "\n",
    "# Draw a nested boxplot to show bills by day and time\n",
    "sns.boxplot(x=\"AVISIT\", y=\"AVAL\",\n",
    "            hue=\"ARMN\", palette=[\"m\", \"g\", \"b\"],\n",
    "            data=test4)\n",
    "sns.despine(offset=10, trim=True)"
   ]
  },
  {
   "cell_type": "markdown",
   "metadata": {},
   "source": []
  },
  {
   "cell_type": "code",
   "execution_count": 39,
   "metadata": {},
   "outputs": [
    {
     "data": {
      "image/png": "[encoded data removed]",
      "text/plain": [
       "<Figure size 432x288 with 1 Axes>"
      ]
     },
     "metadata": {},
     "output_type": "display_data"
    }
   ],
   "source": []
  },
  {
   "cell_type": "markdown",
   "metadata": {},
   "source": [
    "#### change the size of the plot"
   ]
  },
  {
   "cell_type": "code",
   "execution_count": null,
   "metadata": {},
   "outputs": [],
   "source": [
    "import seaborn as sns\n",
    "\n",
    "sns.set(style=\"ticks\", palette=\"pastel\")\n",
    "\n",
    "# Draw a nested boxplot to show bills by day and time\n",
    "sns.boxplot(x=\"AVISIT\", y=\"AVAL\",\n",
    "            hue=\"ARMN\", palette=[\"m\", \"g\", \"b\"],\n",
    "            data=test4)\n",
    "sns.despine(offset=10, trim=True)"
   ]
  },
  {
   "cell_type": "markdown",
   "metadata": {},
   "source": [
    "<details>\n",
    "<summary>Réponse</summary>\n",
    "<pre>\n",
    "expMat = read.table(\"exprMat_DUO.tsv\", header = T, sep = \"\\t\", row.names = 1)\n",
    "</pre>\n",
    "</details>"
   ]
  },
  {
   "cell_type": "markdown",
   "metadata": {},
   "source": [
    "## line plot on ADRE"
   ]
  },
  {
   "cell_type": "markdown",
   "metadata": {},
   "source": [
    "## box plot on ADRE"
   ]
  },
  {
   "cell_type": "markdown",
   "metadata": {},
   "source": [
    "# linear regression\n",
    "regression lineaire simple on TMADSL with Stastmodels\n",
    "several way to import package\n",
    "introduire notion de dir()\n",
    "scikitlearn ou statsmodels ?"
   ]
  },
  {
   "cell_type": "markdown",
   "metadata": {},
   "source": [
    "# loops, functions"
   ]
  },
  {
   "cell_type": "markdown",
   "metadata": {},
   "source": [
    "ex expression reguliere\n",
    "boucles for, if\n",
    "definition function\n",
    "\n",
    "ex if et for\n",
    "\n",
    "\n",
    "\n",
    "name <- c(\"sanofi\",\"toyota\",\"bmw\",\"novartis\",\"Nissan\")\n",
    "for(i in name){\n",
    "  if(i%in%c(\"sanofi\",\"novartis\")){\n",
    "    print(\"Pharma\")\n",
    "  }else{\n",
    "    print(\"automobile\")}\n",
    "}"
   ]
  },
  {
   "cell_type": "markdown",
   "metadata": {},
   "source": [
    "introduire expression reguliere avec mesure de temps"
   ]
  },
  {
   "cell_type": "markdown",
   "metadata": {},
   "source": []
  },
  {
   "cell_type": "markdown",
   "metadata": {},
   "source": []
  },
  {
   "cell_type": "markdown",
   "metadata": {},
   "source": [
    "# mathplotlib\n",
    "structure generale\n",
    " boxplot, spagetti plot et waterfallplot on TMadre\n",
    " scatterplot on TMADSL\n",
    " KM curve on TMadtte"
   ]
  },
  {
   "cell_type": "markdown",
   "metadata": {},
   "source": []
  },
  {
   "cell_type": "markdown",
   "metadata": {},
   "source": []
  },
  {
   "cell_type": "code",
   "execution_count": null,
   "metadata": {},
   "outputs": [],
   "source": []
  },
  {
   "cell_type": "markdown",
   "metadata": {},
   "source": [
    "# paulin \n",
    "## import sas data et convert to csv sr.data.sasimport\tImport SAS dataset and convert to CSV\n",
    "## parsing data clinical gouv; toruver une application proche stat"
   ]
  },
  {
   "cell_type": "code",
   "execution_count": null,
   "metadata": {},
   "outputs": [],
   "source": []
  },
  {
   "cell_type": "code",
   "execution_count": null,
   "metadata": {},
   "outputs": [],
   "source": []
  }
 ],
 "metadata": {
  "kernelspec": {
   "display_name": "Python 3",
   "language": "python",
   "name": "python3"
  },
  "language_info": {
   "codemirror_mode": {
    "name": "ipython",
    "version": 3
   },
   "file_extension": ".py",
   "mimetype": "text/x-python",
   "name": "python",
   "nbconvert_exporter": "python",
   "pygments_lexer": "ipython3",
   "version": "3.7.1"
  },
  "toc": {
   "base_numbering": 1,
   "nav_menu": {},
   "number_sections": true,
   "sideBar": true,
   "skip_h1_title": false,
   "title_cell": "Table of Contents",
   "title_sidebar": "Contents",
   "toc_cell": false,
   "toc_position": {
    "height": "calc(100% - 180px)",
    "left": "10px",
    "top": "150px",
    "width": "164.988px"
   },
   "toc_section_display": true,
   "toc_window_display": true
  },
  "varInspector": {
   "cols": {
    "lenName": 16,
    "lenType": 16,
    "lenVar": 40
   },
   "kernels_config": {
    "python": {
     "delete_cmd_postfix": "",
     "delete_cmd_prefix": "del ",
     "library": "var_list.py",
     "varRefreshCmd": "print(var_dic_list())"
    },
    "r": {
     "delete_cmd_postfix": ") ",
     "delete_cmd_prefix": "rm(",
     "library": "var_list.r",
     "varRefreshCmd": "cat(var_dic_list()) "
    }
   },
   "types_to_exclude": [
    "module",
    "function",
    "builtin_function_or_method",
    "instance",
    "_Feature"
   ],
   "window_display": false
  }
 },
 "nbformat": 4,
 "nbformat_minor": 2
}
