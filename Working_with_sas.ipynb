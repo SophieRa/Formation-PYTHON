{
 "cells": [
  {
   "cell_type": "markdown",
   "metadata": {},
   "source": [
    "# Working with SAS"
   ]
  },
  {
   "cell_type": "code",
   "execution_count": 2,
   "metadata": {},
   "outputs": [],
   "source": [
    "import pandas as pd\n",
    "import pyreadstat\n",
    "\n",
    "dataset = 'adsl.sas7bdat'"
   ]
  },
  {
   "cell_type": "markdown",
   "metadata": {},
   "source": [
    "## import SAS with pandas"
   ]
  },
  {
   "cell_type": "code",
   "execution_count": 3,
   "metadata": {},
   "outputs": [],
   "source": [
    "df = pd.read_sas(dataset)"
   ]
  },
  {
   "cell_type": "markdown",
   "metadata": {},
   "source": [
    "_no metadata are available when reading sas with pandas_"
   ]
  },
  {
   "cell_type": "markdown",
   "metadata": {},
   "source": [
    "## import SAS with pyreadstat"
   ]
  },
  {
   "cell_type": "code",
   "execution_count": 6,
   "metadata": {},
   "outputs": [],
   "source": [
    "df, meta = pyreadstat.read_sas7bdat(dataset)"
   ]
  },
  {
   "cell_type": "markdown",
   "metadata": {},
   "source": [
    "dataframe is available in `df` object. It's a pandas dataframe.<br>\n",
    "metadata are available in `meta` object  when reading sas with pyreadstat"
   ]
  },
  {
   "cell_type": "code",
   "execution_count": 11,
   "metadata": {},
   "outputs": [
    {
     "name": "stdout",
     "output_type": "stream",
     "text": [
      "variable ['USUBJID', 'STUDYID', 'DOMAIN', 'SITEID', 'SITEGRP', 'SUBJID', 'VISIT1DT', 'RANDDT', 'TRTSTDT', 'RFSTDTC', 'LSTDOSDT', 'ENDDT', 'RFENDTC', 'VISNUMEN', 'DISCONT', 'DSDECOD', 'DSREASAE', 'DSREASCD', 'DEATH', 'TRTDUR', 'TRTP', 'TRTPCD', 'TRTPN', 'TRTDOSE', 'AVGDD', 'CUMDOSE', 'ARM', 'ARMCD', 'ARMN', 'AGE', 'AGEGRP', 'AGEGRPN', 'AGEU', 'RACE', 'RACEN', 'SEX', 'BMIBL', 'BMIBLGRP', 'DISONSET', 'DURDIS', 'DURDISGR', 'EDUCLVL', 'HEIGHTBL', 'MMSETOT', 'WEIGHTBL', 'SAFETY', 'ITT', 'EFFICACY', 'COMPLT24', 'COMPLT16', 'COMPLT8']\n",
      "labels: ['Unique Subject Identifier', 'Study Identifier', 'Domain Abbreviation', 'Study Site Identifier', 'Pooled Site', 'Subject Identifier for the Study', 'Date of Visit 1', 'Date of Randomization (Visit 3)', 'Start Date of Treatment', 'Subject Reference Start Date/Time', 'Date of Last Dose', 'Date of Discontinuation/Completion', 'Subject Reference End Date/Time', 'End of Trt Visit (Vis 12 or Early Term.)', 'Did the Subject Discontinue the Study?', 'Standardized Disposition Term', 'Discontinued due to AE?', 'Reason for Discontinuation', 'Subject Died?', 'Duration of Treatment (days)', 'ADaM Description of Planned Arm', 'ADaM Planned Arm Code', 'ADaM Planned Arm Code, Numeric', 'Randomized Daily Dose', 'Avg Daily Dose (as planned)', 'Cumulative Dose (as planned)', 'Description of Planned Arm', 'Planned Arm Code', 'Planned Arm Code, Numeric', 'Age in AGEU at RFSTDTC', 'Age Group', 'Age Group, Numeric', 'Age Units', 'Race', 'Race, Numeric', 'Sex', 'Baseline BMI (kg/m^2)', 'Category of Baseline BMI', 'Date of Onset of Disease', 'Duration of Disease (Months)', 'Category of Duration of Disease', 'Years of Education', 'Baseline Height (cm)', 'MMSE Total', 'Baseline Weight (kg)', 'Safety Population Flag', 'Intent to Treat Population Flag', 'Efficacy Population Flag', 'Completers of Week 24 Population Flag', 'Completers of Week 16 Population Flag', 'Completers of Week 8 Population Flag']\n",
      "row count 254\n",
      "column count: 51\n",
      "file label: ADSL\n",
      "encoding: WINDOWS-1252\n"
     ]
    }
   ],
   "source": [
    "print('variable', meta.column_names)\n",
    "print('labels:', meta.column_labels)\n",
    "print('row count', meta.number_rows)\n",
    "print('column count:',meta.number_columns)\n",
    "print('file label:', meta.file_label)\n",
    "print('encoding:', meta.file_encoding)"
   ]
  },
  {
   "cell_type": "markdown",
   "metadata": {},
   "source": [
    "## Exporting data"
   ]
  },
  {
   "cell_type": "markdown",
   "metadata": {},
   "source": [
    "Best option: export to csv. No current way to write sas file"
   ]
  }
 ],
 "metadata": {
  "kernelspec": {
   "display_name": "Python 3",
   "language": "python",
   "name": "python3"
  },
  "language_info": {
   "codemirror_mode": {
    "name": "ipython",
    "version": 3
   },
   "file_extension": ".py",
   "mimetype": "text/x-python",
   "name": "python",
   "nbconvert_exporter": "python",
   "pygments_lexer": "ipython3",
   "version": "3.6.5"
  }
 },
 "nbformat": 4,
 "nbformat_minor": 2
}
